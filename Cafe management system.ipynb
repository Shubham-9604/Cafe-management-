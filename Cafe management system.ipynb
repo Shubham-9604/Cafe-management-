{
 "cells": [
  {
   "cell_type": "code",
   "execution_count": 4,
   "id": "08db6fde-f78c-44b7-8379-c8927e462421",
   "metadata": {},
   "outputs": [
    {
     "name": "stdout",
     "output_type": "stream",
     "text": [
      "Welcome to SRA Cafe\n",
      "pizza': Rs40\n",
      "'coffe': Rs50\n",
      "'Burger': Rs49\n",
      "'Salad': Rs100\n",
      "'Maggie': Rs60\n"
     ]
    },
    {
     "name": "stdin",
     "output_type": "stream",
     "text": [
      "Enter the name of item you want to order Burger\n"
     ]
    },
    {
     "name": "stdout",
     "output_type": "stream",
     "text": [
      "your item Burger is added in cart\n"
     ]
    },
    {
     "name": "stdin",
     "output_type": "stream",
     "text": [
      "Do you want something else? (Yes/No) yes\n",
      "Enter the name of second item =  coffe\n"
     ]
    },
    {
     "name": "stdout",
     "output_type": "stream",
     "text": [
      "item coffe has been added to order\n",
      "The total amount of item to pay is 99\n"
     ]
    }
   ],
   "source": [
    "menu = {\n",
    "    'pizza' :40,\n",
    "    'coffe' :50,\n",
    "    'Burger' :49,\n",
    "    'Salad' :100,\n",
    "    'Maggie' :60,\n",
    "}\n",
    "\n",
    "print(\"Welcome to SRA Cafe\")\n",
    "print(\"pizza': Rs40\\n'coffe': Rs50\\n'Burger': Rs49\\n'Salad': Rs100\\n'Maggie': Rs60\")\n",
    "\n",
    "order_total = 0 \n",
    "item_1 = input(\"Enter the name of item you want to order\").capitalize()\n",
    "if item_1 in menu:\n",
    "    order_total += menu[item_1]\n",
    "    print(f\"your item {item_1} is added in cart\")\n",
    "else :\n",
    "    print (f\"this item {item_1} is not available in SRA Cafe\")\n",
    "\n",
    "another_item = input(\"Do you want something else? (Yes/No)\")\n",
    "if another_item.capitalize() == \"Yes\":\n",
    "    item_2 = input(\"Enter the name of second item = \")\n",
    "    if item_2 in menu: \n",
    "        order_total += menu[item_2]\n",
    "        print(f\"item {item_2} has been added to order\")\n",
    "    else:\n",
    "        print(f\"ordered item {item_2} is not availble in SRA Cafe\")\n",
    "print(f\"The total amount of item to pay is {order_total}\")\n"
   ]
  },
  {
   "cell_type": "code",
   "execution_count": null,
   "id": "0bedd8b7-5312-4fd5-93a7-427e38e96e1f",
   "metadata": {},
   "outputs": [],
   "source": []
  }
 ],
 "metadata": {
  "kernelspec": {
   "display_name": "Python 3 (ipykernel)",
   "language": "python",
   "name": "python3"
  },
  "language_info": {
   "codemirror_mode": {
    "name": "ipython",
    "version": 3
   },
   "file_extension": ".py",
   "mimetype": "text/x-python",
   "name": "python",
   "nbconvert_exporter": "python",
   "pygments_lexer": "ipython3",
   "version": "3.11.7"
  }
 },
 "nbformat": 4,
 "nbformat_minor": 5
}
